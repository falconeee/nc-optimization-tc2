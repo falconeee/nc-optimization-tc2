{
 "cells": [
  {
   "cell_type": "markdown",
   "id": "dd89bb15",
   "metadata": {},
   "source": [
    "# Libs"
   ]
  },
  {
   "cell_type": "code",
   "execution_count": null,
   "id": "c3753907",
   "metadata": {},
   "outputs": [],
   "source": [
    "import numpy as np\n",
    "import tensorflow as tf\n",
    "from tensorflow.keras.datasets import mnist\n",
    "from tensorflow.keras.models import Model\n",
    "from tensorflow.keras.layers import Input, Dense\n",
    "from tensorflow.keras.optimizers import Adam\n",
    "from sklearn.metrics import accuracy_score\n",
    "import matplotlib.pyplot as plt\n",
    "\n",
    "from mealpy import FloatVar, ES"
   ]
  },
  {
   "cell_type": "markdown",
   "id": "e496ea64",
   "metadata": {},
   "source": [
    "# Load Dataset"
   ]
  },
  {
   "cell_type": "code",
   "execution_count": null,
   "id": "96f79010",
   "metadata": {},
   "outputs": [],
   "source": [
    "(x_train, y_train), (x_test, y_test) = mnist.load_data()\n",
    "x_train = x_train.reshape(-1, 784).astype(\"float32\") / 255.0\n",
    "x_test = x_test.reshape(-1, 784).astype(\"float32\") / 255.0\n",
    "\n",
    "print(\"Training data shape:\", x_train.shape)\n",
    "print(\"Test data shape:\", x_test.shape)"
   ]
  },
  {
   "cell_type": "markdown",
   "id": "b18e7eba",
   "metadata": {},
   "source": [
    "# Set functions"
   ]
  },
  {
   "cell_type": "code",
   "execution_count": null,
   "id": "fe540603",
   "metadata": {},
   "outputs": [],
   "source": [
    "def build_autoencoder_classifier(params):\n",
    "    hidden_layers = int(round(params[0]))\n",
    "    neurons = int(round(params[1]))\n",
    "    lr = float(params[2])\n",
    "\n",
    "    input_layer = Input(shape=(784,))\n",
    "    x = input_layer\n",
    "    for _ in range(hidden_layers):\n",
    "        x = Dense(neurons, activation='relu')(x)\n",
    "    latent = Dense(32, activation='relu')(x)\n",
    "\n",
    "    # Decoder\n",
    "    x = latent\n",
    "    for _ in range(hidden_layers):\n",
    "        x = Dense(neurons, activation='relu')(x)\n",
    "    output_layer = Dense(784, activation='sigmoid')(x)\n",
    "\n",
    "    autoencoder = Model(input_layer, output_layer)\n",
    "    encoder = Model(input_layer, latent)\n",
    "    autoencoder.compile(optimizer=Adam(lr), loss='mse')\n",
    "    return autoencoder, encoder\n",
    "\n",
    "def build_classifier(encoder):\n",
    "    for layer in encoder.layers:\n",
    "        layer.trainable = False\n",
    "    input_latent = encoder.input\n",
    "    x = encoder.output\n",
    "    x = Dense(64, activation='relu')(x)\n",
    "    output = Dense(10, activation='softmax')(x)\n",
    "    model = Model(input_latent, output)\n",
    "    model.compile(optimizer='adam', loss='sparse_categorical_crossentropy', metrics=['accuracy'])\n",
    "    return model\n",
    "\n",
    "def objective_function(solution):\n",
    "    try:\n",
    "        autoencoder, encoder = build_autoencoder_classifier(solution)\n",
    "        autoencoder.fit(x_train, x_train, epochs=5, batch_size=256, verbose=0)\n",
    "\n",
    "        classifier = build_classifier(encoder)\n",
    "        classifier.fit(x_train, y_train, epochs=5, batch_size=256, verbose=0)\n",
    "        preds = classifier.predict(x_test)\n",
    "        acc = accuracy_score(y_test, np.argmax(preds, axis=1))\n",
    "        return 1 - acc  # menor é melhor\n",
    "    except Exception as e:\n",
    "        print(\"Erro ao avaliar indivíduo:\", solution)\n",
    "        return 1.0  # penalização forte"
   ]
  },
  {
   "cell_type": "markdown",
   "id": "fe5dded8",
   "metadata": {},
   "source": [
    "# Set params for the problem"
   ]
  },
  {
   "cell_type": "code",
   "execution_count": null,
   "id": "1ed900fd",
   "metadata": {},
   "outputs": [],
   "source": [
    "problem_dict = {\n",
    "    \"bounds\": FloatVar(\n",
    "        lb=(1, 16, 0.0001),\n",
    "        ub=(3, 256, 0.01),\n",
    "        name=\"autoencoder_params\"\n",
    "    ),\n",
    "    \"minmax\": \"min\",\n",
    "    \"obj_func\": objective_function\n",
    "}"
   ]
  },
  {
   "cell_type": "markdown",
   "id": "560f4df8",
   "metadata": {},
   "source": [
    "# Run ES"
   ]
  },
  {
   "cell_type": "code",
   "execution_count": null,
   "id": "456b416d",
   "metadata": {},
   "outputs": [],
   "source": [
    "model = ES.OriginalES(epoch=10, pop_size=5, lamda=0.75, verbose=True)\n",
    "g_best = model.solve(problem_dict)"
   ]
  },
  {
   "cell_type": "markdown",
   "id": "c9793148",
   "metadata": {},
   "source": [
    "# Results"
   ]
  },
  {
   "cell_type": "code",
   "execution_count": null,
   "id": "f83433b1",
   "metadata": {},
   "outputs": [],
   "source": [
    "print(\"\\nMelhor solução encontrada:\")\n",
    "print(f\"Configuração ótima: Camadas={int(round(g_best.solution[0]))}, Neurônios={int(round(g_best.solution[1]))}, LR={g_best.solution[2]:.5f}\")\n",
    "print(f\"Fitness: {g_best.target.fitness:.5f}\")\n",
    "\n",
    "plt.plot(model.history.list_global_best_fit)\n",
    "plt.title(\"Convergência do Evolution Strategy (MEALpy)\")\n",
    "plt.xlabel(\"Geração\")\n",
    "plt.ylabel(\"Fitness (1 - acurácia)\")\n",
    "plt.grid(True)\n",
    "plt.show()"
   ]
  }
 ],
 "metadata": {
  "kernelspec": {
   "display_name": "venv",
   "language": "python",
   "name": "python3"
  },
  "language_info": {
   "codemirror_mode": {
    "name": "ipython",
    "version": 3
   },
   "file_extension": ".py",
   "mimetype": "text/x-python",
   "name": "python",
   "nbconvert_exporter": "python",
   "pygments_lexer": "ipython3",
   "version": "3.10.11"
  }
 },
 "nbformat": 4,
 "nbformat_minor": 5
}
