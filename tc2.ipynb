{
 "cells": [
  {
   "cell_type": "markdown",
   "id": "dd89bb15",
   "metadata": {},
   "source": [
    "# Libs"
   ]
  },
  {
   "cell_type": "code",
   "execution_count": null,
   "id": "c3753907",
   "metadata": {},
   "outputs": [],
   "source": [
    "import numpy as np\n",
    "import tensorflow as tf\n",
    "from tensorflow.keras.datasets import mnist\n",
    "from tensorflow.keras.models import Model\n",
    "from tensorflow.keras.layers import Input, Dense\n",
    "from tensorflow.keras.optimizers import Adam\n",
    "from sklearn.metrics import accuracy_score, precision_score, recall_score, f1_score\n",
    "import matplotlib.pyplot as plt\n",
    "\n",
    "from mealpy import FloatVar, IntegerVar, ES, PSO"
   ]
  },
  {
   "cell_type": "markdown",
   "id": "e496ea64",
   "metadata": {},
   "source": [
    "# Load Dataset"
   ]
  },
  {
   "cell_type": "code",
   "execution_count": null,
   "id": "96f79010",
   "metadata": {},
   "outputs": [],
   "source": [
    "(x_train, y_train), (x_test, y_test) = mnist.load_data()\n",
    "x_train = x_train.reshape(-1, 784).astype(\"float32\") / 255.0\n",
    "x_test = x_test.reshape(-1, 784).astype(\"float32\") / 255.0\n",
    "\n",
    "print(\"Training data shape:\", x_train.shape)\n",
    "print(\"Test data shape:\", x_test.shape)"
   ]
  },
  {
   "cell_type": "markdown",
   "id": "b18e7eba",
   "metadata": {},
   "source": [
    "# Set functions"
   ]
  },
  {
   "cell_type": "code",
   "execution_count": null,
   "id": "fe540603",
   "metadata": {},
   "outputs": [],
   "source": [
    "def build_autoencoder_classifier(params):\n",
    "    hidden_layers = int(round(params[0]))\n",
    "    neurons = int(round(params[1]))\n",
    "    lr = float(params[2])\n",
    "\n",
    "    input_layer = Input(shape=(784,))\n",
    "    x = input_layer\n",
    "    for _ in range(hidden_layers):\n",
    "        x = Dense(neurons, activation='relu')(x)\n",
    "    latent = Dense(32, activation='relu')(x)\n",
    "\n",
    "    # Decoder\n",
    "    x = latent\n",
    "    for _ in range(hidden_layers):\n",
    "        x = Dense(neurons, activation='relu')(x)\n",
    "    output_layer = Dense(784, activation='sigmoid')(x)\n",
    "\n",
    "    autoencoder = Model(input_layer, output_layer)\n",
    "    encoder = Model(input_layer, latent)\n",
    "    autoencoder.compile(optimizer=Adam(lr), loss='mse')\n",
    "    return autoencoder, encoder\n",
    "\n",
    "def build_classifier(encoder):\n",
    "    for layer in encoder.layers:\n",
    "        layer.trainable = False\n",
    "    input_latent = encoder.input\n",
    "    x = encoder.output\n",
    "    x = Dense(64, activation='relu')(x)\n",
    "    output = Dense(10, activation='softmax')(x)\n",
    "    model = Model(input_latent, output)\n",
    "    model.compile(optimizer='adam', loss='sparse_categorical_crossentropy', metrics=['accuracy'])\n",
    "    return model\n",
    "\n",
    "def objective_function(solution):\n",
    "    try:\n",
    "        # Sanitização dos parâmetros para garantir que estão dentro dos limites e possuem valores válidos\n",
    "        hidden_layers = int(round(np.clip(solution[0], 1, 3)))\n",
    "        neurons = int(round(np.clip(solution[1], 16, 256)))\n",
    "        lr = float(np.clip(solution[2], 0.0001, 0.01))\n",
    "\n",
    "        # Debug\n",
    "        print(f\"Avaliando: Camadas={hidden_layers}, Neurônios={neurons}, LR={lr:.5f}\")\n",
    "\n",
    "        # Construção do modelo\n",
    "        autoencoder, encoder = build_autoencoder_classifier([hidden_layers, neurons, lr])\n",
    "        autoencoder.fit(x_train, x_train, epochs=5, batch_size=256, verbose=0)\n",
    "\n",
    "        classifier = build_classifier(encoder)\n",
    "        classifier.fit(x_train, y_train, epochs=5, batch_size=256, verbose=0)\n",
    "        preds = classifier.predict(x_test)\n",
    "        acc = accuracy_score(y_test, np.argmax(preds, axis=1))\n",
    "        return 1 - acc  # menor é melhor\n",
    "    except Exception as e:\n",
    "        print(\"Erro ao avaliar indivíduo:\", solution)\n",
    "        print(\"Detalhes:\", str(e))\n",
    "        return 1.0  # penalização forte"
   ]
  },
  {
   "cell_type": "markdown",
   "id": "fe5dded8",
   "metadata": {},
   "source": [
    "# Set params for the problem"
   ]
  },
  {
   "cell_type": "code",
   "execution_count": null,
   "id": "1ed900fd",
   "metadata": {},
   "outputs": [],
   "source": [
    "problem_dict = {\n",
    "    \"bounds\": [\n",
    "        IntegerVar(lb=1, ub=5, name=\"hidden_layers\"),\n",
    "        IntegerVar(lb=16, ub=256, name=\"neurons\"),\n",
    "        FloatVar(lb=0.0001, ub=0.01, name=\"lr\"),\n",
    "    ],\n",
    "    \"minmax\": \"min\",\n",
    "    \"obj_func\": objective_function\n",
    "}"
   ]
  },
  {
   "cell_type": "markdown",
   "id": "560f4df8",
   "metadata": {},
   "source": [
    "# ES"
   ]
  },
  {
   "cell_type": "markdown",
   "id": "7aeb868e",
   "metadata": {},
   "source": [
    "## Run ES"
   ]
  },
  {
   "cell_type": "code",
   "execution_count": null,
   "id": "456b416d",
   "metadata": {},
   "outputs": [],
   "source": [
    "model = ES.OriginalES(epoch=15, pop_size=20, lamda=0.75, verbose=True)\n",
    "g_best = model.solve(problem_dict)"
   ]
  },
  {
   "cell_type": "markdown",
   "id": "c9793148",
   "metadata": {},
   "source": [
    "## ES Results"
   ]
  },
  {
   "cell_type": "code",
   "execution_count": null,
   "id": "f83433b1",
   "metadata": {},
   "outputs": [],
   "source": [
    "print(\"\\nMelhor solução encontrada:\")\n",
    "print(f\"Camadas: {int(round(g_best.solution[0]))}\")\n",
    "print(f\"Neurônios por camada: {int(round(g_best.solution[1]))}\")\n",
    "print(f\"Taxa de aprendizado: {g_best.solution[2]:.5f}\")\n",
    "print(f\"Fitness (1 - acurácia): {g_best.target.fitness:.5f}\")\n",
    "\n",
    "plt.plot(model.history.list_global_best_fit)\n",
    "plt.title(\"Convergência do Evolution Strategy (MEALpy)\")\n",
    "plt.xlabel(\"Geração\")\n",
    "plt.ylabel(\"Fitness (1 - acurácia)\")\n",
    "plt.grid(True)\n",
    "plt.show()"
   ]
  },
  {
   "cell_type": "markdown",
   "id": "fe92e2af",
   "metadata": {},
   "source": [
    "## ES Metrics"
   ]
  },
  {
   "cell_type": "code",
   "execution_count": null,
   "id": "7b0f90f0",
   "metadata": {},
   "outputs": [],
   "source": [
    "best_layers = int(round(g_best.solution[0]))\n",
    "best_neurons = int(round(g_best.solution[1]))\n",
    "best_lr = float(g_best.solution[2])\n",
    "\n",
    "print(\"\\n--- Avaliação final com o melhor modelo ---\")\n",
    "print(f\"Camadas ocultas: {best_layers}\")\n",
    "print(f\"Neurônios por camada: {best_neurons}\")\n",
    "print(f\"Learning rate: {best_lr:.5f}\")\n",
    "\n",
    "# Reconstruir e treinar\n",
    "autoencoder, encoder = build_autoencoder_classifier([best_layers, best_neurons, best_lr])\n",
    "autoencoder.fit(x_train, x_train, epochs=5, batch_size=256, verbose=0)\n",
    "\n",
    "classifier = build_classifier(encoder)\n",
    "classifier.fit(x_train, y_train, epochs=5, batch_size=256, verbose=0)\n",
    "\n",
    "# Previsões e métricas\n",
    "y_pred = classifier.predict(x_test)\n",
    "y_pred_classes = np.argmax(y_pred, axis=1)\n",
    "\n",
    "acc = accuracy_score(y_test, y_pred_classes)\n",
    "prec = precision_score(y_test, y_pred_classes, average='macro')\n",
    "rec = recall_score(y_test, y_pred_classes, average='macro')\n",
    "f1 = f1_score(y_test, y_pred_classes, average='macro')\n",
    "\n",
    "print(f\"\\nAcurácia final:  {acc:.4f}\")\n",
    "print(f\"Precisão:        {prec:.4f}\")\n",
    "print(f\"Revocação:       {rec:.4f}\")\n",
    "print(f\"F1-Score:        {f1:.4f}\")"
   ]
  },
  {
   "cell_type": "markdown",
   "id": "b92f534f",
   "metadata": {},
   "source": [
    "# PSO"
   ]
  },
  {
   "cell_type": "markdown",
   "id": "e78dde70",
   "metadata": {},
   "source": [
    "## Run PSO"
   ]
  },
  {
   "cell_type": "code",
   "execution_count": null,
   "id": "17c049ca",
   "metadata": {},
   "outputs": [],
   "source": [
    "model = PSO.OriginalPSO(epoch=15, pop_size=20, c1=2.05, c2=2.5, w=0.4, verbose=True)\n",
    "g_best = model.solve(problem_dict)"
   ]
  },
  {
   "cell_type": "markdown",
   "id": "f47e60e8",
   "metadata": {},
   "source": [
    "## PSO Results"
   ]
  },
  {
   "cell_type": "code",
   "execution_count": null,
   "id": "5c639b2a",
   "metadata": {},
   "outputs": [],
   "source": [
    "print(\"\\nMelhor solução encontrada:\")\n",
    "print(f\"Camadas: {int(round(g_best.solution[0]))}\")\n",
    "print(f\"Neurônios por camada: {int(round(g_best.solution[1]))}\")\n",
    "print(f\"Taxa de aprendizado: {g_best.solution[2]:.5f}\")\n",
    "print(f\"Fitness (1 - acurácia): {g_best.target.fitness:.5f}\")\n",
    "\n",
    "plt.plot(model.history.list_global_best_fit)\n",
    "plt.title(\"Convergência do PSO (MEALpy - OriginalPSO)\")\n",
    "plt.xlabel(\"Geração\")\n",
    "plt.ylabel(\"Fitness (1 - Acurácia)\")\n",
    "plt.grid(True)\n",
    "plt.show()"
   ]
  },
  {
   "cell_type": "markdown",
   "id": "eb5fd23c",
   "metadata": {},
   "source": [
    "## PSO Metrics"
   ]
  },
  {
   "cell_type": "code",
   "execution_count": null,
   "id": "b4e40435",
   "metadata": {},
   "outputs": [],
   "source": [
    "best_layers = int(round(g_best.solution[0]))\n",
    "best_neurons = int(round(g_best.solution[1]))\n",
    "best_lr = float(g_best.solution[2])\n",
    "\n",
    "print(\"\\n--- Avaliação final com o melhor modelo ---\")\n",
    "print(f\"Camadas ocultas: {best_layers}\")\n",
    "print(f\"Neurônios por camada: {best_neurons}\")\n",
    "print(f\"Learning rate: {best_lr:.5f}\")\n",
    "\n",
    "# Reconstruir e treinar\n",
    "autoencoder, encoder = build_autoencoder_classifier([best_layers, best_neurons, best_lr])\n",
    "autoencoder.fit(x_train, x_train, epochs=5, batch_size=256, verbose=0)\n",
    "\n",
    "classifier = build_classifier(encoder)\n",
    "classifier.fit(x_train, y_train, epochs=5, batch_size=256, verbose=0)\n",
    "\n",
    "# Previsões e métricas\n",
    "y_pred = classifier.predict(x_test)\n",
    "y_pred_classes = np.argmax(y_pred, axis=1)\n",
    "\n",
    "acc = accuracy_score(y_test, y_pred_classes)\n",
    "prec = precision_score(y_test, y_pred_classes, average='macro')\n",
    "rec = recall_score(y_test, y_pred_classes, average='macro')\n",
    "f1 = f1_score(y_test, y_pred_classes, average='macro')\n",
    "\n",
    "print(f\"\\nAcurácia final:  {acc:.4f}\")\n",
    "print(f\"Precisão:        {prec:.4f}\")\n",
    "print(f\"Revocação:       {rec:.4f}\")\n",
    "print(f\"F1-Score:        {f1:.4f}\")"
   ]
  }
 ],
 "metadata": {
  "kernelspec": {
   "display_name": "venv",
   "language": "python",
   "name": "python3"
  },
  "language_info": {
   "codemirror_mode": {
    "name": "ipython",
    "version": 3
   },
   "file_extension": ".py",
   "mimetype": "text/x-python",
   "name": "python",
   "nbconvert_exporter": "python",
   "pygments_lexer": "ipython3",
   "version": "3.10.11"
  }
 },
 "nbformat": 4,
 "nbformat_minor": 5
}
